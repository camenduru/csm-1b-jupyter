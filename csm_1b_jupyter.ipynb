{
  "cells": [
    {
      "cell_type": "markdown",
      "metadata": {
        "id": "view-in-github"
      },
      "source": [
        "[![Open In Colab](https://colab.research.google.com/assets/colab-badge.svg)](https://colab.research.google.com/github/camenduru/csm-1b-jupyter/blob/main/csm_1b_jupyter.ipynb)"
      ]
    },
    {
      "cell_type": "code",
      "execution_count": null,
      "metadata": {
        "id": "VjYy0F2gZIPR"
      },
      "outputs": [],
      "source": [
        "%cd /content\n",
        "!git clone -b dev https://github.com/camenduru/csm-1b-hf\n",
        "!pip install torch==2.4.0 torchaudio==2.4.0 tokenizers==0.21.0 transformers==4.49.0 huggingface_hub==0.28.1 gradio==5.20.1 moshi==0.2.2 torchtune==0.4.0 torchao==0.9.0 silentcipher @ git+https://github.com/SesameAILabs/silentcipher@master\n",
        "%cd /content/csm-1b-hf\n",
        "!python app.py"
      ]
    }
  ],
  "metadata": {
    "accelerator": "GPU",
    "colab": {
      "gpuType": "T4",
      "provenance": []
    },
    "kernelspec": {
      "display_name": "Python 3",
      "name": "python3"
    },
    "language_info": {
      "name": "python"
    }
  },
  "nbformat": 4,
  "nbformat_minor": 0
}
